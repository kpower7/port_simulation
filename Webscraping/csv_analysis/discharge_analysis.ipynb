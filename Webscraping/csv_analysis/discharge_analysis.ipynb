{
 "cells": [
  {
   "cell_type": "markdown",
   "metadata": {},
   "source": [
    "# Container Discharge Date Analysis\n",
    "Analysis of container discharge dates from Results_apm_all.csv"
   ]
  },
  {
   "cell_type": "code",
   "execution_count": null,
   "metadata": {},
   "source": [
    "import pandas as pd\n",
    "import matplotlib.pyplot as plt\n",
    "import seaborn as sns\n",
    "from datetime import datetime\n",
    "\n",
    "# Set display options\n",
    "pd.set_option('display.max_columns', None)\n",
    "pd.set_option('display.max_rows', 50)"
   ]
  },
  {
   "cell_type": "code",
   "execution_count": null,
   "metadata": {},
   "source": [
    "# Read the CSV file\n",
    "df = pd.read_csv(r'C:\\Users\\k_pow\\OneDrive\\Documents\\Capstone\\Webscraping\\Results_apm_all.csv')"
   ]
  },
  {
   "cell_type": "code",
   "execution_count": null,
   "metadata": {},
   "source": [
    "# Count containers with no discharge date\n",
    "not_discharged = df['Discharge Date'].isna().sum()\n",
    "print(f\"Number of containers not yet discharged: {not_discharged}\")\n",
    "print(f\"Percentage of containers not discharged: {(not_discharged/len(df)*100):.2f}%\")"
   ]
  },
  {
   "cell_type": "code",
   "execution_count": null,
   "metadata": {},
   "source": [
    "# Convert Discharge Date to datetime and count by date\n",
    "df['Discharge Date'] = pd.to_datetime(df['Discharge Date'], errors='coerce')\n",
    "\n",
    "# Get counts by date for discharged containers\n",
    "discharge_counts = df['Discharge Date'].value_counts().sort_index()\n",
    "\n",
    "print(\"\\nNumber of containers discharged by date:\")\n",
    "print(discharge_counts)"
   ]
  },
  {
   "cell_type": "code",
   "execution_count": null,
   "metadata": {},
   "source": [
    "# Create a bar plot of discharges by date\n",
    "plt.figure(figsize=(15, 6))\n",
    "discharge_counts.plot(kind='bar')\n",
    "plt.title('Container Discharges by Date')\n",
    "plt.xlabel('Date')\n",
    "plt.ylabel('Number of Containers')\n",
    "plt.xticks(rotation=45)\n",
    "plt.tight_layout()\n",
    "plt.show()"
   ]
  },
  {
   "cell_type": "code",
   "execution_count": null,
   "metadata": {},
   "source": [
    "# Calculate some basic statistics about discharge dates\n",
    "print(\"Discharge Date Statistics:\")\n",
    "print(f\"Earliest discharge date: {df['Discharge Date'].min()}\")\n",
    "print(f\"Latest discharge date: {df['Discharge Date'].max()}\")\n",
    "print(f\"\\nMost common discharge dates:\")\n",
    "print(discharge_counts.head())"
   ]
  }
 ],
 "metadata": {
  "kernelspec": {
   "display_name": "Python 3",
   "language": "python",
   "name": "python3"
  },
  "language_info": {
   "codemirror_mode": {
    "name": "ipython",
    "version": 3
   },
   "file_extension": ".py",
   "mimetype": "text/x-python",
   "name": "python",
   "nbconvert_exporter": "python",
   "pygments_lexer": "ipython3",
   "version": "3.8.0"
  }
 },
 "nbformat": 4,
 "nbformat_minor": 4
}
