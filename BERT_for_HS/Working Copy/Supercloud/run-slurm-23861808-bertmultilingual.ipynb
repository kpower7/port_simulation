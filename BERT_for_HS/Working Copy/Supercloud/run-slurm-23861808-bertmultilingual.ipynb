{
 "cells": [
  {
   "cell_type": "code",
   "execution_count": 1,
   "id": "dc73096f-dafd-4d1a-8336-7cac81a450c1",
   "metadata": {
    "execution": {
     "iopub.execute_input": "2023-09-18T16:02:25.227146Z",
     "iopub.status.busy": "2023-09-18T16:02:25.226846Z",
     "iopub.status.idle": "2023-09-18T16:03:00.841597Z",
     "shell.execute_reply": "2023-09-18T16:03:00.841116Z"
    }
   },
   "outputs": [],
   "source": [
    "import pandas as pd\n",
    "import os\n",
    "import sys\n",
    "from datasets import Dataset\n",
    "from transformers import AutoTokenizer, AutoModelForSequenceClassification, AutoConfig, TrainingArguments, Trainer"
   ]
  },
  {
   "cell_type": "code",
   "execution_count": 2,
   "id": "9cf9d227-9c52-40c0-97bd-b86cbb7c895f",
   "metadata": {
    "execution": {
     "iopub.execute_input": "2023-09-18T16:03:00.844815Z",
     "iopub.status.busy": "2023-09-18T16:03:00.844273Z",
     "iopub.status.idle": "2023-09-18T16:03:00.848074Z",
     "shell.execute_reply": "2023-09-18T16:03:00.847682Z"
    }
   },
   "outputs": [],
   "source": [
    "model_id = \"roberta-base\"\n",
    "try:\n",
    "    if len(os.environ['DOG_HF_MODEL_ID']) > 4:\n",
    "        model_id = os.environ['DOG_HF_MODEL_ID']\n",
    "except:\n",
    "    pass\n",
    "\n",
    "output_model_id = model_id+'-hc6model'\n",
    "user_id = os.environ['USER']\n",
    "slurm_job = -1\n",
    "\n",
    "try:\n",
    "    slurm_job = int(os.environ['SLURM_JOB_ID'])\n",
    "    output_model_id = model_id+'-hc6model-'+str(slurm_job)\n",
    "except:\n",
    "    pass"
   ]
  },
  {
   "cell_type": "code",
   "execution_count": 3,
   "id": "1f9f01ca-3cee-47a9-b199-ba90b48a456c",
   "metadata": {
    "execution": {
     "iopub.execute_input": "2023-09-18T16:03:00.849840Z",
     "iopub.status.busy": "2023-09-18T16:03:00.849636Z",
     "iopub.status.idle": "2023-09-18T16:03:00.854648Z",
     "shell.execute_reply": "2023-09-18T16:03:00.854302Z"
    }
   },
   "outputs": [
    {
     "data": {
      "text/plain": [
       "'bert-base-multilingual-uncased'"
      ]
     },
     "metadata": {},
     "output_type": "display_data"
    },
    {
     "data": {
      "text/plain": [
       "'bert-base-multilingual-uncased-hc6model-23861808'"
      ]
     },
     "metadata": {},
     "output_type": "display_data"
    }
   ],
   "source": [
    "display(model_id)\n",
    "display(output_model_id)"
   ]
  },
  {
   "cell_type": "code",
   "execution_count": 4,
   "id": "4ad4479b-dde2-413e-9c30-2c48f8ae2a57",
   "metadata": {
    "execution": {
     "iopub.execute_input": "2023-09-18T16:03:00.856451Z",
     "iopub.status.busy": "2023-09-18T16:03:00.856249Z",
     "iopub.status.idle": "2023-09-18T16:03:00.860171Z",
     "shell.execute_reply": "2023-09-18T16:03:00.859815Z"
    }
   },
   "outputs": [
    {
     "name": "stdout",
     "output_type": "stream",
     "text": [
      "Running model bert-base-multilingual-uncasedOutput id bert-base-multilingual-uncased-hc6model-23861808"
     ]
    },
    {
     "name": "stderr",
     "output_type": "stream",
     "text": [
      "Running model bert-base-multilingual-uncasedOutput id bert-base-multilingual-uncased-hc6model-23861808"
     ]
    },
    {
     "data": {
      "text/plain": [
       "58"
      ]
     },
     "execution_count": 4,
     "metadata": {},
     "output_type": "execute_result"
    }
   ],
   "source": [
    "sys.stdout.write('Running model '+model_id)\n",
    "sys.stdout.write('Output id '+output_model_id)\n",
    "sys.stderr.write('Running model '+model_id)\n",
    "sys.stderr.write('Output id '+output_model_id)"
   ]
  },
  {
   "cell_type": "code",
   "execution_count": 5,
   "id": "90cbca82-c6bf-420c-abd0-a5e3eaa2b0da",
   "metadata": {
    "execution": {
     "iopub.execute_input": "2023-09-18T16:03:00.862455Z",
     "iopub.status.busy": "2023-09-18T16:03:00.862248Z",
     "iopub.status.idle": "2023-09-18T16:03:24.762343Z",
     "shell.execute_reply": "2023-09-18T16:03:24.761899Z"
    }
   },
   "outputs": [
    {
     "name": "stdout",
     "output_type": "stream",
     "text": [
      "Create directory /state/partition1/user/tkoch/23861808/huggingface-models\n",
      "sending incremental file list\n",
      "./\n",
      "version.txt\n",
      "models--bert-base-cased/\n",
      "models--bert-base-multilingual-uncased/\n",
      "models--bert-base-multilingual-uncased/.no_exist/\n",
      "models--bert-base-multilingual-uncased/.no_exist/3da6b6aad5111664db74322f2158b7f93e09a717/\n",
      "models--bert-base-multilingual-uncased/.no_exist/3da6b6aad5111664db74322f2158b7f93e09a717/added_tokens.json\n",
      "models--bert-base-multilingual-uncased/.no_exist/3da6b6aad5111664db74322f2158b7f93e09a717/special_tokens_map.json\n",
      "models--bert-base-multilingual-uncased/blobs/\n",
      "models--bert-base-multilingual-uncased/blobs/03c53303f0ef6535e93372a93be2db71ec46a1e3\n",
      "models--bert-base-multilingual-uncased/blobs/23bc0b1c246323483af59827fab707d26b831456\n",
      "models--bert-base-multilingual-uncased/blobs/28dbff2d6ef29e813e012041b13a9a9eb618ad21\n",
      "models--bert-base-multilingual-uncased/blobs/a661b1a138dac6dc5590367402d100765010ffd6\n",
      "models--bert-base-multilingual-uncased/blobs/b33adb2b700b7029a64a4a14ddec6bda8555d2ca879e80a75789fd9542a6290e\n",
      "models--bert-base-multilingual-uncased/refs/\n",
      "models--bert-base-multilingual-uncased/refs/main\n",
      "models--bert-base-multilingual-uncased/snapshots/\n",
      "models--bert-base-multilingual-uncased/snapshots/3da6b6aad5111664db74322f2158b7f93e09a717/\n",
      "models--bert-base-multilingual-uncased/snapshots/3da6b6aad5111664db74322f2158b7f93e09a717/config.json -> ../../blobs/28dbff2d6ef29e813e012041b13a9a9eb618ad21\n",
      "models--bert-base-multilingual-uncased/snapshots/3da6b6aad5111664db74322f2158b7f93e09a717/model.safetensors -> ../../blobs/b33adb2b700b7029a64a4a14ddec6bda8555d2ca879e80a75789fd9542a6290e\n",
      "models--bert-base-multilingual-uncased/snapshots/3da6b6aad5111664db74322f2158b7f93e09a717/tokenizer.json -> ../../blobs/23bc0b1c246323483af59827fab707d26b831456\n",
      "models--bert-base-multilingual-uncased/snapshots/3da6b6aad5111664db74322f2158b7f93e09a717/tokenizer_config.json -> ../../blobs/a661b1a138dac6dc5590367402d100765010ffd6\n",
      "models--bert-base-multilingual-uncased/snapshots/3da6b6aad5111664db74322f2158b7f93e09a717/vocab.txt -> ../../blobs/03c53303f0ef6535e93372a93be2db71ec46a1e3\n",
      "models--bert-base-uncased/\n",
      "models--bert-base-uncased/.no_exist/\n",
      "models--bert-base-uncased/.no_exist/1dbc166cf8765166998eff31ade2eb64c8a40076/\n",
      "models--bert-base-uncased/.no_exist/1dbc166cf8765166998eff31ade2eb64c8a40076/added_tokens.json\n",
      "models--bert-base-uncased/.no_exist/1dbc166cf8765166998eff31ade2eb64c8a40076/generation_config.json\n",
      "models--bert-base-uncased/.no_exist/1dbc166cf8765166998eff31ade2eb64c8a40076/special_tokens_map.json\n",
      "models--bert-base-uncased/blobs/\n",
      "models--bert-base-uncased/blobs/45a2321a7ecfdaaf60a6c1fd7f5463994cc8907d\n",
      "models--bert-base-uncased/blobs/68d45e234eb4a928074dfd868cead0219ab85354cc53d20e772753c6bb9169d3\n",
      "models--bert-base-uncased/blobs/949a6f013d67eb8a5b4b5b46026217b888021b88\n",
      "models--bert-base-uncased/blobs/a661b1a138dac6dc5590367402d100765010ffd6\n",
      "models--bert-base-uncased/blobs/a661b1a138dac6dc5590367402d100765010ffd6.lock\n",
      "models--bert-base-uncased/blobs/fb140275c155a9c7c5a3b3e0e77a9e839594a938\n",
      "models--bert-base-uncased/refs/\n",
      "models--bert-base-uncased/refs/main\n",
      "models--bert-base-uncased/snapshots/\n",
      "models--bert-base-uncased/snapshots/1dbc166cf8765166998eff31ade2eb64c8a40076/\n",
      "models--bert-base-uncased/snapshots/1dbc166cf8765166998eff31ade2eb64c8a40076/config.json -> ../../blobs/45a2321a7ecfdaaf60a6c1fd7f5463994cc8907d\n",
      "models--bert-base-uncased/snapshots/1dbc166cf8765166998eff31ade2eb64c8a40076/model.safetensors -> ../../blobs/68d45e234eb4a928074dfd868cead0219ab85354cc53d20e772753c6bb9169d3\n",
      "models--bert-base-uncased/snapshots/1dbc166cf8765166998eff31ade2eb64c8a40076/tokenizer.json -> ../../blobs/949a6f013d67eb8a5b4b5b46026217b888021b88\n",
      "models--bert-base-uncased/snapshots/1dbc166cf8765166998eff31ade2eb64c8a40076/tokenizer_config.json -> ../../blobs/a661b1a138dac6dc5590367402d100765010ffd6\n",
      "models--bert-base-uncased/snapshots/1dbc166cf8765166998eff31ade2eb64c8a40076/vocab.txt -> ../../blobs/fb140275c155a9c7c5a3b3e0e77a9e839594a938\n",
      "models--bert-large-uncased/\n",
      "models--bert-large-uncased/.no_exist/\n",
      "models--bert-large-uncased/.no_exist/80792f8e8216b29f3c846b653a0ff0a37c210431/\n",
      "models--bert-large-uncased/.no_exist/80792f8e8216b29f3c846b653a0ff0a37c210431/added_tokens.json\n",
      "models--bert-large-uncased/.no_exist/80792f8e8216b29f3c846b653a0ff0a37c210431/special_tokens_map.json\n",
      "models--bert-large-uncased/blobs/\n",
      "models--bert-large-uncased/blobs/28349a5c57338d0dca591bb95de533897c2399095c69d61e09604b46f444a4c4\n",
      "models--bert-large-uncased/blobs/949a6f013d67eb8a5b4b5b46026217b888021b88\n",
      "models--bert-large-uncased/blobs/a661b1a138dac6dc5590367402d100765010ffd6\n",
      "models--bert-large-uncased/blobs/aebacf092f61a8f7e74aa0112f89a4011222dec3\n",
      "models--bert-large-uncased/blobs/fb140275c155a9c7c5a3b3e0e77a9e839594a938\n",
      "models--bert-large-uncased/refs/\n",
      "models--bert-large-uncased/refs/main\n",
      "models--bert-large-uncased/snapshots/\n",
      "models--bert-large-uncased/snapshots/80792f8e8216b29f3c846b653a0ff0a37c210431/\n",
      "models--bert-large-uncased/snapshots/80792f8e8216b29f3c846b653a0ff0a37c210431/config.json -> ../../blobs/aebacf092f61a8f7e74aa0112f89a4011222dec3\n",
      "models--bert-large-uncased/snapshots/80792f8e8216b29f3c846b653a0ff0a37c210431/model.safetensors -> ../../blobs/28349a5c57338d0dca591bb95de533897c2399095c69d61e09604b46f444a4c4\n",
      "models--bert-large-uncased/snapshots/80792f8e8216b29f3c846b653a0ff0a37c210431/tokenizer.json -> ../../blobs/949a6f013d67eb8a5b4b5b46026217b888021b88\n",
      "models--bert-large-uncased/snapshots/80792f8e8216b29f3c846b653a0ff0a37c210431/tokenizer_config.json -> ../../blobs/a661b1a138dac6dc5590367402d100765010ffd6\n",
      "models--bert-large-uncased/snapshots/80792f8e8216b29f3c846b653a0ff0a37c210431/vocab.txt -> ../../blobs/fb140275c155a9c7c5a3b3e0e77a9e839594a938\n",
      "models--distilbert-base-uncased/\n",
      "models--distilbert-base-uncased/.no_exist/\n",
      "models--distilbert-base-uncased/.no_exist/6cdc0aad91f5ae2e6712e91bc7b65d1cf5c05411/\n",
      "models--distilbert-base-uncased/.no_exist/6cdc0aad91f5ae2e6712e91bc7b65d1cf5c05411/added_tokens.json\n",
      "models--distilbert-base-uncased/.no_exist/6cdc0aad91f5ae2e6712e91bc7b65d1cf5c05411/special_tokens_map.json\n",
      "models--distilbert-base-uncased/blobs/\n",
      "models--distilbert-base-uncased/blobs/150367d8744161cd17b3f6462a14f3a9648752da\n",
      "models--distilbert-base-uncased/blobs/5e3f1108e3cb34ee048634875d8482665b65ac713291a7e32396fb18f6ff0063\n",
      "models--distilbert-base-uncased/blobs/949a6f013d67eb8a5b4b5b46026217b888021b88\n",
      "models--distilbert-base-uncased/blobs/a661b1a138dac6dc5590367402d100765010ffd6\n",
      "models--distilbert-base-uncased/blobs/fb140275c155a9c7c5a3b3e0e77a9e839594a938\n",
      "models--distilbert-base-uncased/refs/\n",
      "models--distilbert-base-uncased/refs/main\n",
      "models--distilbert-base-uncased/snapshots/\n",
      "models--distilbert-base-uncased/snapshots/6cdc0aad91f5ae2e6712e91bc7b65d1cf5c05411/\n",
      "models--distilbert-base-uncased/snapshots/6cdc0aad91f5ae2e6712e91bc7b65d1cf5c05411/config.json -> ../../blobs/150367d8744161cd17b3f6462a14f3a9648752da\n",
      "models--distilbert-base-uncased/snapshots/6cdc0aad91f5ae2e6712e91bc7b65d1cf5c05411/model.safetensors -> ../../blobs/5e3f1108e3cb34ee048634875d8482665b65ac713291a7e32396fb18f6ff0063\n",
      "models--distilbert-base-uncased/snapshots/6cdc0aad91f5ae2e6712e91bc7b65d1cf5c05411/tokenizer.json -> ../../blobs/949a6f013d67eb8a5b4b5b46026217b888021b88\n",
      "models--distilbert-base-uncased/snapshots/6cdc0aad91f5ae2e6712e91bc7b65d1cf5c05411/tokenizer_config.json -> ../../blobs/a661b1a138dac6dc5590367402d100765010ffd6\n",
      "models--distilbert-base-uncased/snapshots/6cdc0aad91f5ae2e6712e91bc7b65d1cf5c05411/vocab.txt -> ../../blobs/fb140275c155a9c7c5a3b3e0e77a9e839594a938\n",
      "models--gpt2/\n",
      "models--gpt2/.no_exist/\n",
      "models--gpt2/.no_exist/11c5a3d5811f50298f278a704980280950aedb10/\n",
      "models--gpt2/.no_exist/11c5a3d5811f50298f278a704980280950aedb10/added_tokens.json\n",
      "models--gpt2/.no_exist/11c5a3d5811f50298f278a704980280950aedb10/special_tokens_map.json\n",
      "models--gpt2/.no_exist/11c5a3d5811f50298f278a704980280950aedb10/tokenizer_config.json\n",
      "models--gpt2/blobs/\n",
      "models--gpt2/blobs/10c66461e4c109db5a2196bff4bb59be30396ed8\n",
      "models--gpt2/blobs/1f1d9aaca301414e7f6c9396df506798ff4eb9a6\n",
      "models--gpt2/blobs/226b0752cac7789c48f0cb3ec53eda48b7be36cc\n",
      "models--gpt2/blobs/248dfc3911869ec493c76e65bf2fcf7f615828b0254c12b473182f0f81d3a707\n",
      "models--gpt2/blobs/4b988bccc9dc5adacd403c00b4704976196548f8\n",
      "models--gpt2/refs/\n",
      "models--gpt2/refs/main\n",
      "models--gpt2/snapshots/\n",
      "models--gpt2/snapshots/11c5a3d5811f50298f278a704980280950aedb10/\n",
      "models--gpt2/snapshots/11c5a3d5811f50298f278a704980280950aedb10/config.json -> ../../blobs/10c66461e4c109db5a2196bff4bb59be30396ed8\n",
      "models--gpt2/snapshots/11c5a3d5811f50298f278a704980280950aedb10/merges.txt -> ../../blobs/226b0752cac7789c48f0cb3ec53eda48b7be36cc\n",
      "models--gpt2/snapshots/11c5a3d5811f50298f278a704980280950aedb10/model.safetensors -> ../../blobs/248dfc3911869ec493c76e65bf2fcf7f615828b0254c12b473182f0f81d3a707\n",
      "models--gpt2/snapshots/11c5a3d5811f50298f278a704980280950aedb10/tokenizer.json -> ../../blobs/4b988bccc9dc5adacd403c00b4704976196548f8\n",
      "models--gpt2/snapshots/11c5a3d5811f50298f278a704980280950aedb10/vocab.json -> ../../blobs/1f1d9aaca301414e7f6c9396df506798ff4eb9a6\n",
      "models--roberta-base/\n",
      "models--roberta-base/.no_exist/\n",
      "models--roberta-base/.no_exist/bc2764f8af2e92b6eb5679868df33e224075ca68/\n",
      "models--roberta-base/.no_exist/bc2764f8af2e92b6eb5679868df33e224075ca68/added_tokens.json\n",
      "models--roberta-base/.no_exist/bc2764f8af2e92b6eb5679868df33e224075ca68/special_tokens_map.json\n",
      "models--roberta-base/.no_exist/bc2764f8af2e92b6eb5679868df33e224075ca68/tokenizer_config.json\n",
      "models--roberta-base/blobs/\n",
      "models--roberta-base/blobs/226b0752cac7789c48f0cb3ec53eda48b7be36cc\n",
      "models--roberta-base/blobs/5606f48548d99a9829d10a96cd364b816b02cd21\n",
      "models--roberta-base/blobs/5606f48548d99a9829d10a96cd364b816b02cd21.lock\n",
      "models--roberta-base/blobs/5bde1d28afb363d0103324efeb5afc8b2b397fe5e04beabb9b1ef355255ade81\n",
      "models--roberta-base/blobs/8db5e7ac5bfc9ec8b613b776009300fe3685d957\n",
      "models--roberta-base/blobs/ad0bcbeb288f0d1373d88e0762e66357f55b8311\n",
      "models--roberta-base/refs/\n",
      "models--roberta-base/refs/main\n",
      "models--roberta-base/snapshots/\n",
      "models--roberta-base/snapshots/bc2764f8af2e92b6eb5679868df33e224075ca68/\n",
      "models--roberta-base/snapshots/bc2764f8af2e92b6eb5679868df33e224075ca68/config.json -> ../../blobs/8db5e7ac5bfc9ec8b613b776009300fe3685d957\n",
      "models--roberta-base/snapshots/bc2764f8af2e92b6eb5679868df33e224075ca68/merges.txt -> ../../blobs/226b0752cac7789c48f0cb3ec53eda48b7be36cc\n",
      "models--roberta-base/snapshots/bc2764f8af2e92b6eb5679868df33e224075ca68/model.safetensors -> ../../blobs/5bde1d28afb363d0103324efeb5afc8b2b397fe5e04beabb9b1ef355255ade81\n",
      "models--roberta-base/snapshots/bc2764f8af2e92b6eb5679868df33e224075ca68/tokenizer.json -> ../../blobs/ad0bcbeb288f0d1373d88e0762e66357f55b8311\n",
      "models--roberta-base/snapshots/bc2764f8af2e92b6eb5679868df33e224075ca68/vocab.json -> ../../blobs/5606f48548d99a9829d10a96cd364b816b02cd21\n",
      "models--roberta-large/\n",
      "models--roberta-large/.no_exist/\n",
      "models--roberta-large/.no_exist/716877d372b884cad6d419d828bac6c85b3b18d9/\n",
      "models--roberta-large/.no_exist/716877d372b884cad6d419d828bac6c85b3b18d9/added_tokens.json\n",
      "models--roberta-large/.no_exist/716877d372b884cad6d419d828bac6c85b3b18d9/special_tokens_map.json\n",
      "models--roberta-large/.no_exist/716877d372b884cad6d419d828bac6c85b3b18d9/tokenizer_config.json\n",
      "models--roberta-large/blobs/\n",
      "models--roberta-large/blobs/047c85f0b96269cd62e6f732644f067004eebd95af5b5d35965ae2528f13bf38\n",
      "models--roberta-large/blobs/226b0752cac7789c48f0cb3ec53eda48b7be36cc\n",
      "models--roberta-large/blobs/5606f48548d99a9829d10a96cd364b816b02cd21\n",
      "models--roberta-large/blobs/ad0bcbeb288f0d1373d88e0762e66357f55b8311\n",
      "models--roberta-large/blobs/b92478606f827116a06a51500cdf1fccb3b96af1\n",
      "models--roberta-large/refs/\n",
      "models--roberta-large/refs/main\n",
      "models--roberta-large/snapshots/\n",
      "models--roberta-large/snapshots/716877d372b884cad6d419d828bac6c85b3b18d9/\n",
      "models--roberta-large/snapshots/716877d372b884cad6d419d828bac6c85b3b18d9/config.json -> ../../blobs/b92478606f827116a06a51500cdf1fccb3b96af1\n",
      "models--roberta-large/snapshots/716877d372b884cad6d419d828bac6c85b3b18d9/merges.txt -> ../../blobs/226b0752cac7789c48f0cb3ec53eda48b7be36cc\n",
      "models--roberta-large/snapshots/716877d372b884cad6d419d828bac6c85b3b18d9/model.safetensors -> ../../blobs/047c85f0b96269cd62e6f732644f067004eebd95af5b5d35965ae2528f13bf38\n",
      "models--roberta-large/snapshots/716877d372b884cad6d419d828bac6c85b3b18d9/tokenizer.json -> ../../blobs/ad0bcbeb288f0d1373d88e0762e66357f55b8311\n",
      "models--roberta-large/snapshots/716877d372b884cad6d419d828bac6c85b3b18d9/vocab.json -> ../../blobs/5606f48548d99a9829d10a96cd364b816b02cd21\n",
      "models--sentence-transformers--paraphrase-mpnet-base-v2/\n",
      "models--sentence-transformers--paraphrase-mpnet-base-v2/.no_exist/\n",
      "models--sentence-transformers--paraphrase-mpnet-base-v2/.no_exist/18df4b22cd35517843308534d066190182ff39ef/\n",
      "models--sentence-transformers--paraphrase-mpnet-base-v2/.no_exist/18df4b22cd35517843308534d066190182ff39ef/model_head.pkl\n",
      "models--sentence-transformers--paraphrase-mpnet-base-v2/blobs/\n",
      "models--sentence-transformers--paraphrase-mpnet-base-v2/blobs/957337f0d6ee3d8fdabb9c66a43faa6acffad00a\n",
      "models--sentence-transformers--paraphrase-mpnet-base-v2/blobs/957337f0d6ee3d8fdabb9c66a43faa6acffad00a.lock\n",
      "models--sentence-transformers--paraphrase-mpnet-base-v2/refs/\n",
      "models--sentence-transformers--paraphrase-mpnet-base-v2/refs/main\n",
      "models--sentence-transformers--paraphrase-mpnet-base-v2/snapshots/\n",
      "models--sentence-transformers--paraphrase-mpnet-base-v2/snapshots/18df4b22cd35517843308534d066190182ff39ef/\n",
      "models--sentence-transformers--paraphrase-mpnet-base-v2/snapshots/18df4b22cd35517843308534d066190182ff39ef/config.json -> ../../blobs/957337f0d6ee3d8fdabb9c66a43faa6acffad00a\n",
      "models--xlnet-base-cased/\n",
      "models--xlnet-base-cased/.no_exist/\n",
      "models--xlnet-base-cased/.no_exist/ceaa69c7bc5e512b5007106a7ccbb7daf24b2c79/\n",
      "models--xlnet-base-cased/.no_exist/ceaa69c7bc5e512b5007106a7ccbb7daf24b2c79/added_tokens.json\n",
      "models--xlnet-base-cased/.no_exist/ceaa69c7bc5e512b5007106a7ccbb7daf24b2c79/model.safetensors\n",
      "models--xlnet-base-cased/.no_exist/ceaa69c7bc5e512b5007106a7ccbb7daf24b2c79/model.safetensors.index.json\n",
      "models--xlnet-base-cased/.no_exist/ceaa69c7bc5e512b5007106a7ccbb7daf24b2c79/special_tokens_map.json\n",
      "models--xlnet-base-cased/.no_exist/ceaa69c7bc5e512b5007106a7ccbb7daf24b2c79/tokenizer_config.json\n",
      "models--xlnet-base-cased/blobs/\n",
      "models--xlnet-base-cased/blobs/679da36df1afad6a75c4bf7918f4fed8d50c006e\n",
      "models--xlnet-base-cased/blobs/9cdb90c57fde2a1e883ef1a944d4d22e3d25d2cf\n",
      "models--xlnet-base-cased/blobs/b13dc2d3664a385b92d087229d5410d9e3020ede976e7ff4c62c9c85cd969a42\n",
      "models--xlnet-base-cased/blobs/b8fa9cbfba7a6c3deb14cec45e801f57b01627dc\n",
      "models--xlnet-base-cased/refs/\n",
      "models--xlnet-base-cased/refs/main\n",
      "models--xlnet-base-cased/snapshots/\n",
      "models--xlnet-base-cased/snapshots/ceaa69c7bc5e512b5007106a7ccbb7daf24b2c79/\n",
      "models--xlnet-base-cased/snapshots/ceaa69c7bc5e512b5007106a7ccbb7daf24b2c79/config.json -> ../../blobs/679da36df1afad6a75c4bf7918f4fed8d50c006e\n",
      "models--xlnet-base-cased/snapshots/ceaa69c7bc5e512b5007106a7ccbb7daf24b2c79/pytorch_model.bin -> ../../blobs/b13dc2d3664a385b92d087229d5410d9e3020ede976e7ff4c62c9c85cd969a42\n",
      "models--xlnet-base-cased/snapshots/ceaa69c7bc5e512b5007106a7ccbb7daf24b2c79/spiece.model -> ../../blobs/9cdb90c57fde2a1e883ef1a944d4d22e3d25d2cf\n",
      "models--xlnet-base-cased/snapshots/ceaa69c7bc5e512b5007106a7ccbb7daf24b2c79/tokenizer.json -> ../../blobs/b8fa9cbfba7a6c3deb14cec45e801f57b01627dc\n",
      "models--xlnet-based-cased/\n",
      "models--xlnet-large-cased/\n",
      "models--xlnet-large-cased/.no_exist/\n",
      "models--xlnet-large-cased/.no_exist/37658b4f179eaf971d127d16bfbd9ca676a93034/\n",
      "models--xlnet-large-cased/.no_exist/37658b4f179eaf971d127d16bfbd9ca676a93034/added_tokens.json\n",
      "models--xlnet-large-cased/.no_exist/37658b4f179eaf971d127d16bfbd9ca676a93034/model.safetensors\n",
      "models--xlnet-large-cased/.no_exist/37658b4f179eaf971d127d16bfbd9ca676a93034/model.safetensors.index.json\n",
      "models--xlnet-large-cased/.no_exist/37658b4f179eaf971d127d16bfbd9ca676a93034/special_tokens_map.json\n",
      "models--xlnet-large-cased/.no_exist/37658b4f179eaf971d127d16bfbd9ca676a93034/tokenizer_config.json\n",
      "models--xlnet-large-cased/blobs/\n",
      "models--xlnet-large-cased/blobs/44057eb45668642861af3b44ad54751a48f49ed632f9b439b0e033526a7e1167\n",
      "models--xlnet-large-cased/blobs/99ee99104965b40f02c6c57baac5f555b44e4a2b\n",
      "models--xlnet-large-cased/blobs/9cdb90c57fde2a1e883ef1a944d4d22e3d25d2cf\n",
      "models--xlnet-large-cased/blobs/b8fa9cbfba7a6c3deb14cec45e801f57b01627dc\n",
      "models--xlnet-large-cased/refs/\n",
      "models--xlnet-large-cased/refs/main\n",
      "models--xlnet-large-cased/snapshots/\n",
      "models--xlnet-large-cased/snapshots/37658b4f179eaf971d127d16bfbd9ca676a93034/\n",
      "models--xlnet-large-cased/snapshots/37658b4f179eaf971d127d16bfbd9ca676a93034/config.json -> ../../blobs/99ee99104965b40f02c6c57baac5f555b44e4a2b\n",
      "models--xlnet-large-cased/snapshots/37658b4f179eaf971d127d16bfbd9ca676a93034/pytorch_model.bin -> ../../blobs/44057eb45668642861af3b44ad54751a48f49ed632f9b439b0e033526a7e1167\n",
      "models--xlnet-large-cased/snapshots/37658b4f179eaf971d127d16bfbd9ca676a93034/spiece.model -> ../../blobs/9cdb90c57fde2a1e883ef1a944d4d22e3d25d2cf\n",
      "models--xlnet-large-cased/snapshots/37658b4f179eaf971d127d16bfbd9ca676a93034/tokenizer.json -> ../../blobs/b8fa9cbfba7a6c3deb14cec45e801f57b01627dc\n",
      "sentence-transformers_paraphrase-mpnet-base-v2/\n",
      "sentence-transformers_paraphrase-mpnet-base-v2/.gitattributes\n",
      "sentence-transformers_paraphrase-mpnet-base-v2/README.md\n",
      "sentence-transformers_paraphrase-mpnet-base-v2/config.json\n",
      "sentence-transformers_paraphrase-mpnet-base-v2/config_sentence_transformers.json\n",
      "sentence-transformers_paraphrase-mpnet-base-v2/modules.json\n",
      "sentence-transformers_paraphrase-mpnet-base-v2/pytorch_model.bin\n",
      "sentence-transformers_paraphrase-mpnet-base-v2/sentence_bert_config.json\n",
      "sentence-transformers_paraphrase-mpnet-base-v2/special_tokens_map.json\n",
      "sentence-transformers_paraphrase-mpnet-base-v2/tokenizer.json\n",
      "sentence-transformers_paraphrase-mpnet-base-v2/tokenizer_config.json\n",
      "sentence-transformers_paraphrase-mpnet-base-v2/vocab.txt\n",
      "sentence-transformers_paraphrase-mpnet-base-v2/1_Pooling/\n",
      "sentence-transformers_paraphrase-mpnet-base-v2/1_Pooling/config.json\n",
      "\n",
      "sent 7,560,466,493 bytes  received 2,376 bytes  308,590,566.08 bytes/sec\n",
      "total size is 7,558,608,728  speedup is 1.00\n"
     ]
    },
    {
     "data": {
      "text/plain": [
       "0"
      ]
     },
     "execution_count": 5,
     "metadata": {},
     "output_type": "execute_result"
    }
   ],
   "source": [
    "#Move huggingface models to local scratch space\n",
    "scratch_filedir = f\"/state/partition1/user/{user_id}/{slurm_job}/huggingface-models\"\n",
    "\n",
    "def make_dir(dir_name):\n",
    "  \"\"\"Creates a directory if it does not exist.\"\"\"\n",
    "  if not os.path.exists(dir_name):\n",
    "    os.makedirs(dir_name)\n",
    "\n",
    "print (f\"Create directory {scratch_filedir}\")\n",
    "make_dir(scratch_filedir)\n",
    "\n",
    "os.system(f\"rsync -av  ~/.cache/huggingface/hub/ {scratch_filedir}\")"
   ]
  },
  {
   "cell_type": "code",
   "execution_count": 6,
   "id": "a831918c-a865-434f-bdc5-b0d6acc8d56b",
   "metadata": {
    "execution": {
     "iopub.execute_input": "2023-09-18T16:03:24.764618Z",
     "iopub.status.busy": "2023-09-18T16:03:24.764389Z",
     "iopub.status.idle": "2023-09-18T16:03:24.767164Z",
     "shell.execute_reply": "2023-09-18T16:03:24.766771Z"
    }
   },
   "outputs": [],
   "source": [
    "#Run in offline mode for SuperCloud.\n",
    "os.environ[\"TRANSFORMERS_OFFLINE\"] = \"1\"\n",
    "os.environ[\"HF_DATASETS_OFFLINE\"] = \"1\"\n",
    "os.environ[\"TRANSFORMERS_CACHE\"] = scratch_filedir\n",
    "os.environ[\"HF_HOME\"] = scratch_filedir"
   ]
  },
  {
   "cell_type": "code",
   "execution_count": 7,
   "id": "b95e814b-629a-428f-809b-608ff56c3263",
   "metadata": {
    "execution": {
     "iopub.execute_input": "2023-09-18T16:03:24.769004Z",
     "iopub.status.busy": "2023-09-18T16:03:24.768803Z",
     "iopub.status.idle": "2023-09-18T16:04:01.118605Z",
     "shell.execute_reply": "2023-09-18T16:04:01.117980Z"
    }
   },
   "outputs": [
    {
     "name": "stdout",
     "output_type": "stream",
     "text": [
      "number of labels: 5612\n",
      "Map labels to ids\n",
      "Load to HF\n"
     ]
    }
   ],
   "source": [
    "# Load dataset\n",
    "dtypes = {'PRODUCT DESCRIPTION' : 'str', 'PRODUCT DESCRIPTION_ASCII' : 'str'}\n",
    "label_col = 'HS CODE6'\n",
    "labels = set([])\n",
    "\n",
    "#Load to pandas\n",
    "train_dataset = pd.read_csv('input/hc_codes_train_IND.csv.gz', dtype=dtypes)[['PRODUCT DESCRIPTION', label_col]]\n",
    "train_dataset = train_dataset[train_dataset['PRODUCT DESCRIPTION'].str.len() > 2]\n",
    "train_dataset['label'] = train_dataset[label_col].astype(int)\n",
    "labels.update(train_dataset['label'].unique())\n",
    "max_desc_length = train_dataset['PRODUCT DESCRIPTION'].str.len().max()\n",
    "\n",
    "test_dataset = pd.read_csv('input/hc_codes_test_IND.csv.gz', dtype=dtypes)[['PRODUCT DESCRIPTION', label_col]]\n",
    "test_dataset = test_dataset[test_dataset['PRODUCT DESCRIPTION'].str.len() > 2]\n",
    "test_dataset['label'] = test_dataset[label_col].astype(int)\n",
    "labels.update(test_dataset['label'].unique())\n",
    "\n",
    "val_dataset = pd.read_csv('input/hc_codes_valid_IND.csv.gz', dtype=dtypes)[['PRODUCT DESCRIPTION', label_col]]\n",
    "val_dataset = val_dataset[val_dataset['PRODUCT DESCRIPTION'].str.len() > 2]\n",
    "val_dataset['label'] = val_dataset[label_col].astype(int)\n",
    "labels.update(val_dataset['label'].unique())\n",
    "\n",
    "# We will need this to directly output the class names when using the pipeline without mapping the labels later.\n",
    "# Extract the number of classes and their names\n",
    "class_names = labels\n",
    "num_labels = len(class_names)\n",
    "print(f\"number of labels: {num_labels}\")\n",
    "#print(f\"the labels: {class_names}\")\n",
    "\n",
    "# Create an id2label mapping\n",
    "id2label = {i: int(label) for i, label in enumerate(class_names)}\n",
    "label2id = {label : idx for idx, label in id2label.items()}\n",
    "print ('Map labels to ids')\n",
    "train_dataset = train_dataset.replace({\"label\": label2id})\n",
    "test_dataset = test_dataset.replace({\"label\": label2id})\n",
    "val_dataset = val_dataset.replace({\"label\": label2id})\n",
    "\n",
    "#Load into HF\n",
    "print ('Load to HF')\n",
    "train_dataset = Dataset.from_pandas(train_dataset)\n",
    "test_dataset = Dataset.from_pandas(test_dataset)\n",
    "val_dataset = Dataset.from_pandas(val_dataset)"
   ]
  },
  {
   "cell_type": "code",
   "execution_count": 8,
   "id": "cea345bc-03a6-4176-80e8-881018c0bb2b",
   "metadata": {
    "execution": {
     "iopub.execute_input": "2023-09-18T16:04:01.121723Z",
     "iopub.status.busy": "2023-09-18T16:04:01.121456Z",
     "iopub.status.idle": "2023-09-18T16:04:01.124755Z",
     "shell.execute_reply": "2023-09-18T16:04:01.124339Z"
    }
   },
   "outputs": [
    {
     "name": "stdout",
     "output_type": "stream",
     "text": [
      "Max length of text 254\n"
     ]
    }
   ],
   "source": [
    "max_text_length = 256\n",
    "print (f\"Max length of text {max_desc_length}\")\n",
    "assert max_desc_length > 0\n",
    "assert max_desc_length < max_text_length-1"
   ]
  },
  {
   "cell_type": "code",
   "execution_count": 9,
   "id": "07de9455-4302-42e2-b5de-a6f6cdbb4cbc",
   "metadata": {
    "execution": {
     "iopub.execute_input": "2023-09-18T16:04:01.126625Z",
     "iopub.status.busy": "2023-09-18T16:04:01.126422Z",
     "iopub.status.idle": "2023-09-18T16:05:51.037421Z",
     "shell.execute_reply": "2023-09-18T16:05:51.036932Z"
    }
   },
   "outputs": [
    {
     "name": "stdout",
     "output_type": "stream",
     "text": [
      "Tokenize training\n"
     ]
    },
    {
     "data": {
      "application/vnd.jupyter.widget-view+json": {
       "model_id": "99abe6de7e4b41d9b3579f61ff661ff2",
       "version_major": 2,
       "version_minor": 0
      },
      "text/plain": [
       "Map:   0%|          | 0/844939 [00:00<?, ? examples/s]"
      ]
     },
     "metadata": {},
     "output_type": "display_data"
    },
    {
     "name": "stdout",
     "output_type": "stream",
     "text": [
      "Tokenize validation\n"
     ]
    },
    {
     "data": {
      "application/vnd.jupyter.widget-view+json": {
       "model_id": "95fee809877d41aba0b47644e0466ec6",
       "version_major": 2,
       "version_minor": 0
      },
      "text/plain": [
       "Map:   0%|          | 0/279776 [00:00<?, ? examples/s]"
      ]
     },
     "metadata": {},
     "output_type": "display_data"
    },
    {
     "name": "stdout",
     "output_type": "stream",
     "text": [
      "Tokenize test\n"
     ]
    },
    {
     "data": {
      "application/vnd.jupyter.widget-view+json": {
       "model_id": "c3374804c15b427990047a4ab7e9df7f",
       "version_major": 2,
       "version_minor": 0
      },
      "text/plain": [
       "Map:   0%|          | 0/279776 [00:00<?, ? examples/s]"
      ]
     },
     "metadata": {},
     "output_type": "display_data"
    }
   ],
   "source": [
    "# Preprocessing\n",
    "tokenizer = AutoTokenizer.from_pretrained(model_id, local_files_only=True, cache_dir=scratch_filedir)\n",
    "if tokenizer.pad_token is None and model_id == 'gpt2':\n",
    "    tokenizer.add_special_tokens({'pad_token': '[PAD]'})\n",
    "\n",
    "# This function tokenizes the input text using the tokenizer. \n",
    "# It applies padding and truncation to ensure that all sequences have the same length.\n",
    "def tokenize(batch):\n",
    "    return tokenizer(batch[\"PRODUCT DESCRIPTION\"], padding=True, truncation=True, max_length=max_text_length)\n",
    "\n",
    "print ('Tokenize training')\n",
    "train_dataset = train_dataset.map(tokenize, batched=True, batch_size=len(train_dataset))\n",
    "print ('Tokenize validation')\n",
    "val_dataset = val_dataset.map(tokenize, batched=True, batch_size=len(val_dataset))\n",
    "print ('Tokenize test')\n",
    "test_dataset = test_dataset.map(tokenize, batched=True, batch_size=len(test_dataset))"
   ]
  },
  {
   "cell_type": "code",
   "execution_count": 10,
   "id": "b7a7737c-0d6e-44c4-8eaa-ccd044ec076c",
   "metadata": {
    "execution": {
     "iopub.execute_input": "2023-09-18T16:05:51.039733Z",
     "iopub.status.busy": "2023-09-18T16:05:51.039500Z",
     "iopub.status.idle": "2023-09-18T16:05:51.043347Z",
     "shell.execute_reply": "2023-09-18T16:05:51.042960Z"
    }
   },
   "outputs": [],
   "source": [
    "# Set dataset format\n",
    "train_dataset.set_format(\"torch\", columns=[\"input_ids\", \"attention_mask\", \"label\"])\n",
    "val_dataset.set_format(\"torch\", columns=[\"input_ids\", \"attention_mask\", \"label\"])\n",
    "test_dataset.set_format(\"torch\", columns=[\"input_ids\", \"attention_mask\", \"label\"])"
   ]
  },
  {
   "cell_type": "code",
   "execution_count": 11,
   "id": "7ff517de-ed1e-4bb9-ba02-031966f1d3c8",
   "metadata": {
    "execution": {
     "iopub.execute_input": "2023-09-18T16:05:51.045462Z",
     "iopub.status.busy": "2023-09-18T16:05:51.045152Z",
     "iopub.status.idle": "2023-09-18T16:05:51.053547Z",
     "shell.execute_reply": "2023-09-18T16:05:51.053167Z"
    }
   },
   "outputs": [],
   "source": [
    "# Update the model's configuration with the id2label mapping\n",
    "config = AutoConfig.from_pretrained(model_id)\n",
    "config.update({\"id2label\": id2label})"
   ]
  },
  {
   "cell_type": "code",
   "execution_count": 12,
   "id": "a200435e-22f3-4bef-99a4-52ecbcbc557b",
   "metadata": {
    "execution": {
     "iopub.execute_input": "2023-09-18T16:05:51.055583Z",
     "iopub.status.busy": "2023-09-18T16:05:51.055383Z",
     "iopub.status.idle": "2023-09-18T16:06:00.437178Z",
     "shell.execute_reply": "2023-09-18T16:06:00.436699Z"
    }
   },
   "outputs": [
    {
     "name": "stderr",
     "output_type": "stream",
     "text": [
      "Some weights of BertForSequenceClassification were not initialized from the model checkpoint at bert-base-multilingual-uncased and are newly initialized: ['classifier.bias', 'classifier.weight']\n",
      "You should probably TRAIN this model on a down-stream task to be able to use it for predictions and inference.\n"
     ]
    }
   ],
   "source": [
    "# Model\n",
    "model = AutoModelForSequenceClassification.from_pretrained(model_id, config=config, \n",
    "                                                           local_files_only=True, \n",
    "                                                           cache_dir=scratch_filedir)\n",
    "TRAIN_BATCH_SIZE = 16\n",
    "VALID_BATCH_SIZE = 8\n",
    "N_EPOCHS = 5\n",
    "if 'roberta' in model_id:\n",
    "    N_EPOCHS = 10\n",
    "elif 'bert-base-multilingual' in model_id:\n",
    "    N_EPOCHS = 10\n",
    "    \n",
    "# TrainingArguments\n",
    "training_args = TrainingArguments(\n",
    "    output_dir=output_model_id,\n",
    "    num_train_epochs=N_EPOCHS,\n",
    "    per_device_train_batch_size=TRAIN_BATCH_SIZE,\n",
    "    per_device_eval_batch_size=VALID_BATCH_SIZE,\n",
    "    evaluation_strategy=\"epoch\",\n",
    "    logging_dir=f\"{output_model_id}/logs\",\n",
    "    logging_strategy=\"steps\",\n",
    "    logging_steps=10,\n",
    "    learning_rate=5e-5,\n",
    "    weight_decay=0.01,\n",
    "    warmup_steps=500,\n",
    "    save_strategy=\"epoch\",\n",
    "    load_best_model_at_end=True,\n",
    "    save_total_limit=2,\n",
    "    report_to=\"tensorboard\"\n",
    ")\n",
    "\n",
    "# Trainer\n",
    "trainer = Trainer(\n",
    "    model=model,\n",
    "    args=training_args,\n",
    "    train_dataset=train_dataset,\n",
    "    eval_dataset=val_dataset,\n",
    ")"
   ]
  },
  {
   "cell_type": "code",
   "execution_count": 13,
   "id": "1f571f26-591e-475f-800e-77d18c2c4f06",
   "metadata": {
    "execution": {
     "iopub.execute_input": "2023-09-18T16:06:00.440216Z",
     "iopub.status.busy": "2023-09-18T16:06:00.439778Z",
     "iopub.status.idle": "2023-09-19T16:38:07.071648Z",
     "shell.execute_reply": "2023-09-19T16:38:07.071207Z"
    }
   },
   "outputs": [
    {
     "name": "stderr",
     "output_type": "stream",
     "text": [
      "/state/partition1/llgrid/pkg/anaconda/anaconda3-2023a-pytorch/lib/python3.9/site-packages/torch/nn/parallel/_functions.py:68: UserWarning: Was asked to gather along dimension 0, but all input tensors were scalars; will instead unsqueeze and return a vector.\n",
      "  warnings.warn('Was asked to gather along dimension 0, but all '\n"
     ]
    },
    {
     "data": {
      "text/html": [
       "\n",
       "    <div>\n",
       "      \n",
       "      <progress value='264050' max='264050' style='width:300px; height:20px; vertical-align: middle;'></progress>\n",
       "      [264050/264050 24:31:59, Epoch 10/10]\n",
       "    </div>\n",
       "    <table border=\"1\" class=\"dataframe\">\n",
       "  <thead>\n",
       " <tr style=\"text-align: left;\">\n",
       "      <th>Epoch</th>\n",
       "      <th>Training Loss</th>\n",
       "      <th>Validation Loss</th>\n",
       "    </tr>\n",
       "  </thead>\n",
       "  <tbody>\n",
       "    <tr>\n",
       "      <td>1</td>\n",
       "      <td>1.315300</td>\n",
       "      <td>1.235460</td>\n",
       "    </tr>\n",
       "    <tr>\n",
       "      <td>2</td>\n",
       "      <td>1.162800</td>\n",
       "      <td>0.958714</td>\n",
       "    </tr>\n",
       "    <tr>\n",
       "      <td>3</td>\n",
       "      <td>0.592600</td>\n",
       "      <td>0.836108</td>\n",
       "    </tr>\n",
       "    <tr>\n",
       "      <td>4</td>\n",
       "      <td>0.611400</td>\n",
       "      <td>0.761451</td>\n",
       "    </tr>\n",
       "    <tr>\n",
       "      <td>5</td>\n",
       "      <td>0.505500</td>\n",
       "      <td>0.721299</td>\n",
       "    </tr>\n",
       "    <tr>\n",
       "      <td>6</td>\n",
       "      <td>0.345500</td>\n",
       "      <td>0.700863</td>\n",
       "    </tr>\n",
       "    <tr>\n",
       "      <td>7</td>\n",
       "      <td>0.214400</td>\n",
       "      <td>0.696945</td>\n",
       "    </tr>\n",
       "    <tr>\n",
       "      <td>8</td>\n",
       "      <td>0.246600</td>\n",
       "      <td>0.699807</td>\n",
       "    </tr>\n",
       "    <tr>\n",
       "      <td>9</td>\n",
       "      <td>0.255600</td>\n",
       "      <td>0.709376</td>\n",
       "    </tr>\n",
       "    <tr>\n",
       "      <td>10</td>\n",
       "      <td>0.203200</td>\n",
       "      <td>0.714095</td>\n",
       "    </tr>\n",
       "  </tbody>\n",
       "</table><p>"
      ],
      "text/plain": [
       "<IPython.core.display.HTML object>"
      ]
     },
     "metadata": {},
     "output_type": "display_data"
    },
    {
     "name": "stderr",
     "output_type": "stream",
     "text": [
      "/state/partition1/llgrid/pkg/anaconda/anaconda3-2023a-pytorch/lib/python3.9/site-packages/torch/nn/parallel/_functions.py:68: UserWarning: Was asked to gather along dimension 0, but all input tensors were scalars; will instead unsqueeze and return a vector.\n",
      "  warnings.warn('Was asked to gather along dimension 0, but all '\n",
      "/state/partition1/llgrid/pkg/anaconda/anaconda3-2023a-pytorch/lib/python3.9/site-packages/torch/nn/parallel/_functions.py:68: UserWarning: Was asked to gather along dimension 0, but all input tensors were scalars; will instead unsqueeze and return a vector.\n",
      "  warnings.warn('Was asked to gather along dimension 0, but all '\n",
      "/state/partition1/llgrid/pkg/anaconda/anaconda3-2023a-pytorch/lib/python3.9/site-packages/torch/nn/parallel/_functions.py:68: UserWarning: Was asked to gather along dimension 0, but all input tensors were scalars; will instead unsqueeze and return a vector.\n",
      "  warnings.warn('Was asked to gather along dimension 0, but all '\n",
      "/state/partition1/llgrid/pkg/anaconda/anaconda3-2023a-pytorch/lib/python3.9/site-packages/torch/nn/parallel/_functions.py:68: UserWarning: Was asked to gather along dimension 0, but all input tensors were scalars; will instead unsqueeze and return a vector.\n",
      "  warnings.warn('Was asked to gather along dimension 0, but all '\n",
      "/state/partition1/llgrid/pkg/anaconda/anaconda3-2023a-pytorch/lib/python3.9/site-packages/torch/nn/parallel/_functions.py:68: UserWarning: Was asked to gather along dimension 0, but all input tensors were scalars; will instead unsqueeze and return a vector.\n",
      "  warnings.warn('Was asked to gather along dimension 0, but all '\n",
      "/state/partition1/llgrid/pkg/anaconda/anaconda3-2023a-pytorch/lib/python3.9/site-packages/torch/nn/parallel/_functions.py:68: UserWarning: Was asked to gather along dimension 0, but all input tensors were scalars; will instead unsqueeze and return a vector.\n",
      "  warnings.warn('Was asked to gather along dimension 0, but all '\n",
      "/state/partition1/llgrid/pkg/anaconda/anaconda3-2023a-pytorch/lib/python3.9/site-packages/torch/nn/parallel/_functions.py:68: UserWarning: Was asked to gather along dimension 0, but all input tensors were scalars; will instead unsqueeze and return a vector.\n",
      "  warnings.warn('Was asked to gather along dimension 0, but all '\n",
      "/state/partition1/llgrid/pkg/anaconda/anaconda3-2023a-pytorch/lib/python3.9/site-packages/torch/nn/parallel/_functions.py:68: UserWarning: Was asked to gather along dimension 0, but all input tensors were scalars; will instead unsqueeze and return a vector.\n",
      "  warnings.warn('Was asked to gather along dimension 0, but all '\n",
      "/state/partition1/llgrid/pkg/anaconda/anaconda3-2023a-pytorch/lib/python3.9/site-packages/torch/nn/parallel/_functions.py:68: UserWarning: Was asked to gather along dimension 0, but all input tensors were scalars; will instead unsqueeze and return a vector.\n",
      "  warnings.warn('Was asked to gather along dimension 0, but all '\n"
     ]
    },
    {
     "data": {
      "text/plain": [
       "TrainOutput(global_step=264050, training_loss=0.6588043315347183, metrics={'train_runtime': 88326.5064, 'train_samples_per_second': 95.661, 'train_steps_per_second': 2.989, 'total_flos': 5.837766774111744e+17, 'train_loss': 0.6588043315347183, 'epoch': 10.0})"
      ]
     },
     "execution_count": 13,
     "metadata": {},
     "output_type": "execute_result"
    }
   ],
   "source": [
    "# Fine-tune the model\n",
    "trainer.train()"
   ]
  },
  {
   "cell_type": "code",
   "execution_count": 14,
   "id": "fd2c4e81-ed19-4510-980d-de1632346ee1",
   "metadata": {
    "execution": {
     "iopub.execute_input": "2023-09-19T16:38:07.073957Z",
     "iopub.status.busy": "2023-09-19T16:38:07.073723Z",
     "iopub.status.idle": "2023-09-19T17:00:52.922098Z",
     "shell.execute_reply": "2023-09-19T17:00:52.921672Z"
    }
   },
   "outputs": [
    {
     "name": "stderr",
     "output_type": "stream",
     "text": [
      "/state/partition1/llgrid/pkg/anaconda/anaconda3-2023a-pytorch/lib/python3.9/site-packages/torch/nn/parallel/_functions.py:68: UserWarning: Was asked to gather along dimension 0, but all input tensors were scalars; will instead unsqueeze and return a vector.\n",
      "  warnings.warn('Was asked to gather along dimension 0, but all '\n"
     ]
    },
    {
     "data": {
      "text/html": [],
      "text/plain": [
       "<IPython.core.display.HTML object>"
      ]
     },
     "metadata": {},
     "output_type": "display_data"
    },
    {
     "data": {
      "text/plain": [
       "{'eval_loss': 0.6969451308250427,\n",
       " 'eval_runtime': 1365.8312,\n",
       " 'eval_samples_per_second': 204.839,\n",
       " 'eval_steps_per_second': 12.802,\n",
       " 'epoch': 10.0}"
      ]
     },
     "execution_count": 14,
     "metadata": {},
     "output_type": "execute_result"
    }
   ],
   "source": [
    "# Evaluate the model\n",
    "trainer.evaluate()"
   ]
  },
  {
   "cell_type": "code",
   "execution_count": 15,
   "id": "1e010b10-6381-4b1b-956b-d2c67cfa758e",
   "metadata": {
    "execution": {
     "iopub.execute_input": "2023-09-19T17:00:52.924093Z",
     "iopub.status.busy": "2023-09-19T17:00:52.923874Z",
     "iopub.status.idle": "2023-09-19T17:00:53.724367Z",
     "shell.execute_reply": "2023-09-19T17:00:53.723849Z"
    }
   },
   "outputs": [],
   "source": [
    "#Save model\n",
    "trainer.save_model(output_model_id+'-model')"
   ]
  },
  {
   "cell_type": "code",
   "execution_count": 16,
   "id": "faad3523-1f0a-45e6-a876-edfdc6ac6db5",
   "metadata": {
    "execution": {
     "iopub.execute_input": "2023-09-19T17:00:53.726915Z",
     "iopub.status.busy": "2023-09-19T17:00:53.726691Z",
     "iopub.status.idle": "2023-09-19T17:33:33.831731Z",
     "shell.execute_reply": "2023-09-19T17:33:33.831162Z"
    }
   },
   "outputs": [
    {
     "name": "stdout",
     "output_type": "stream",
     "text": [
      "F1 score: 0.867\n",
      "Accuracy: 0.871\n"
     ]
    }
   ],
   "source": [
    "test_predictions = trainer.predict(test_dataset)\n",
    "\n",
    "from sklearn.metrics import f1_score, accuracy_score\n",
    "\n",
    "predictions = test_predictions.predictions.argmax(axis=-1)\n",
    "\n",
    "f1_score = f1_score(test_dataset[\"label\"], predictions, average=\"weighted\")\n",
    "accuracy = accuracy_score(test_dataset[\"label\"], predictions)\n",
    "\n",
    "print(f\"F1 score: {f1_score:.3f}\")\n",
    "print(f\"Accuracy: {accuracy:.3f}\")"
   ]
  }
 ],
 "metadata": {
  "kernelspec": {
   "display_name": "Python 3",
   "language": "python",
   "name": "python3"
  },
  "language_info": {
   "codemirror_mode": {
    "name": "ipython",
    "version": 3
   },
   "file_extension": ".py",
   "mimetype": "text/x-python",
   "name": "python",
   "nbconvert_exporter": "python",
   "pygments_lexer": "ipython3",
   "version": "3.9.16"
  },
  "widgets": {
   "application/vnd.jupyter.widget-state+json": {
    "state": {
     "024d0e9e92fa4062953b4873a2dcf83b": {
      "model_module": "@jupyter-widgets/controls",
      "model_module_version": "2.0.0",
      "model_name": "HTMLStyleModel",
      "state": {
       "_model_module": "@jupyter-widgets/controls",
       "_model_module_version": "2.0.0",
       "_model_name": "HTMLStyleModel",
       "_view_count": null,
       "_view_module": "@jupyter-widgets/base",
       "_view_module_version": "2.0.0",
       "_view_name": "StyleView",
       "background": null,
       "description_width": "",
       "font_size": null,
       "text_color": null
      }
     },
     "13c0e7c0a2b34a62af545d13185d146c": {
      "model_module": "@jupyter-widgets/controls",
      "model_module_version": "2.0.0",
      "model_name": "HTMLModel",
      "state": {
       "_dom_classes": [],
       "_model_module": "@jupyter-widgets/controls",
       "_model_module_version": "2.0.0",
       "_model_name": "HTMLModel",
       "_view_count": null,
       "_view_module": "@jupyter-widgets/controls",
       "_view_module_version": "2.0.0",
       "_view_name": "HTMLView",
       "description": "",
       "description_allow_html": false,
       "layout": "IPY_MODEL_40e97078ffe043f48b8ad24273e1d511",
       "placeholder": "​",
       "style": "IPY_MODEL_aa9e2d8fa39a405b982e4fa09883df22",
       "tabbable": null,
       "tooltip": null,
       "value": "Map: 100%"
      }
     },
     "2e6879abb0f8408a9ecc4f7d5fed52a3": {
      "model_module": "@jupyter-widgets/base",
      "model_module_version": "2.0.0",
      "model_name": "LayoutModel",
      "state": {
       "_model_module": "@jupyter-widgets/base",
       "_model_module_version": "2.0.0",
       "_model_name": "LayoutModel",
       "_view_count": null,
       "_view_module": "@jupyter-widgets/base",
       "_view_module_version": "2.0.0",
       "_view_name": "LayoutView",
       "align_content": null,
       "align_items": null,
       "align_self": null,
       "border_bottom": null,
       "border_left": null,
       "border_right": null,
       "border_top": null,
       "bottom": null,
       "display": null,
       "flex": null,
       "flex_flow": null,
       "grid_area": null,
       "grid_auto_columns": null,
       "grid_auto_flow": null,
       "grid_auto_rows": null,
       "grid_column": null,
       "grid_gap": null,
       "grid_row": null,
       "grid_template_areas": null,
       "grid_template_columns": null,
       "grid_template_rows": null,
       "height": null,
       "justify_content": null,
       "justify_items": null,
       "left": null,
       "margin": null,
       "max_height": null,
       "max_width": null,
       "min_height": null,
       "min_width": null,
       "object_fit": null,
       "object_position": null,
       "order": null,
       "overflow": null,
       "padding": null,
       "right": null,
       "top": null,
       "visibility": null,
       "width": null
      }
     },
     "32e6e1920fac4f9a8b8ca4763182bcbd": {
      "model_module": "@jupyter-widgets/controls",
      "model_module_version": "2.0.0",
      "model_name": "ProgressStyleModel",
      "state": {
       "_model_module": "@jupyter-widgets/controls",
       "_model_module_version": "2.0.0",
       "_model_name": "ProgressStyleModel",
       "_view_count": null,
       "_view_module": "@jupyter-widgets/base",
       "_view_module_version": "2.0.0",
       "_view_name": "StyleView",
       "bar_color": null,
       "description_width": ""
      }
     },
     "3bb3453d0549482692e23ddf8a1df5f9": {
      "model_module": "@jupyter-widgets/controls",
      "model_module_version": "2.0.0",
      "model_name": "FloatProgressModel",
      "state": {
       "_dom_classes": [],
       "_model_module": "@jupyter-widgets/controls",
       "_model_module_version": "2.0.0",
       "_model_name": "FloatProgressModel",
       "_view_count": null,
       "_view_module": "@jupyter-widgets/controls",
       "_view_module_version": "2.0.0",
       "_view_name": "ProgressView",
       "bar_style": "success",
       "description": "",
       "description_allow_html": false,
       "layout": "IPY_MODEL_b24fbd0ea6cd499cab52f883a6347955",
       "max": 279776.0,
       "min": 0.0,
       "orientation": "horizontal",
       "style": "IPY_MODEL_af5b922a1b894cb8b9585a7df57a623a",
       "tabbable": null,
       "tooltip": null,
       "value": 279776.0
      }
     },
     "3ddca11aa7ad4839be74b2a1b7b68013": {
      "model_module": "@jupyter-widgets/controls",
      "model_module_version": "2.0.0",
      "model_name": "HTMLModel",
      "state": {
       "_dom_classes": [],
       "_model_module": "@jupyter-widgets/controls",
       "_model_module_version": "2.0.0",
       "_model_name": "HTMLModel",
       "_view_count": null,
       "_view_module": "@jupyter-widgets/controls",
       "_view_module_version": "2.0.0",
       "_view_name": "HTMLView",
       "description": "",
       "description_allow_html": false,
       "layout": "IPY_MODEL_76507732cb46409fa4133589f6e8584d",
       "placeholder": "​",
       "style": "IPY_MODEL_c648abb27cd4407bbc56ff1727772bc6",
       "tabbable": null,
       "tooltip": null,
       "value": " 279776/279776 [00:15&lt;00:00, 18095.46 examples/s]"
      }
     },
     "40e97078ffe043f48b8ad24273e1d511": {
      "model_module": "@jupyter-widgets/base",
      "model_module_version": "2.0.0",
      "model_name": "LayoutModel",
      "state": {
       "_model_module": "@jupyter-widgets/base",
       "_model_module_version": "2.0.0",
       "_model_name": "LayoutModel",
       "_view_count": null,
       "_view_module": "@jupyter-widgets/base",
       "_view_module_version": "2.0.0",
       "_view_name": "LayoutView",
       "align_content": null,
       "align_items": null,
       "align_self": null,
       "border_bottom": null,
       "border_left": null,
       "border_right": null,
       "border_top": null,
       "bottom": null,
       "display": null,
       "flex": null,
       "flex_flow": null,
       "grid_area": null,
       "grid_auto_columns": null,
       "grid_auto_flow": null,
       "grid_auto_rows": null,
       "grid_column": null,
       "grid_gap": null,
       "grid_row": null,
       "grid_template_areas": null,
       "grid_template_columns": null,
       "grid_template_rows": null,
       "height": null,
       "justify_content": null,
       "justify_items": null,
       "left": null,
       "margin": null,
       "max_height": null,
       "max_width": null,
       "min_height": null,
       "min_width": null,
       "object_fit": null,
       "object_position": null,
       "order": null,
       "overflow": null,
       "padding": null,
       "right": null,
       "top": null,
       "visibility": null,
       "width": null
      }
     },
     "4ae4ed7513494a379cd99c8d9a1d5039": {
      "model_module": "@jupyter-widgets/controls",
      "model_module_version": "2.0.0",
      "model_name": "HTMLModel",
      "state": {
       "_dom_classes": [],
       "_model_module": "@jupyter-widgets/controls",
       "_model_module_version": "2.0.0",
       "_model_name": "HTMLModel",
       "_view_count": null,
       "_view_module": "@jupyter-widgets/controls",
       "_view_module_version": "2.0.0",
       "_view_name": "HTMLView",
       "description": "",
       "description_allow_html": false,
       "layout": "IPY_MODEL_777c4360ace14d81af46b42acc47f96f",
       "placeholder": "​",
       "style": "IPY_MODEL_6732b7bed1ca403bb3aa0741283a9b46",
       "tabbable": null,
       "tooltip": null,
       "value": "Map: 100%"
      }
     },
     "5d5501c8cfc84c4483da5bb31f79735c": {
      "model_module": "@jupyter-widgets/controls",
      "model_module_version": "2.0.0",
      "model_name": "HTMLModel",
      "state": {
       "_dom_classes": [],
       "_model_module": "@jupyter-widgets/controls",
       "_model_module_version": "2.0.0",
       "_model_name": "HTMLModel",
       "_view_count": null,
       "_view_module": "@jupyter-widgets/controls",
       "_view_module_version": "2.0.0",
       "_view_name": "HTMLView",
       "description": "",
       "description_allow_html": false,
       "layout": "IPY_MODEL_e83172dd70b64d329f5584abe68efc4e",
       "placeholder": "​",
       "style": "IPY_MODEL_9ea35c0206f24483a2de215818b4fe16",
       "tabbable": null,
       "tooltip": null,
       "value": "Map: 100%"
      }
     },
     "62ff8730bd1446259846f635896c6432": {
      "model_module": "@jupyter-widgets/base",
      "model_module_version": "2.0.0",
      "model_name": "LayoutModel",
      "state": {
       "_model_module": "@jupyter-widgets/base",
       "_model_module_version": "2.0.0",
       "_model_name": "LayoutModel",
       "_view_count": null,
       "_view_module": "@jupyter-widgets/base",
       "_view_module_version": "2.0.0",
       "_view_name": "LayoutView",
       "align_content": null,
       "align_items": null,
       "align_self": null,
       "border_bottom": null,
       "border_left": null,
       "border_right": null,
       "border_top": null,
       "bottom": null,
       "display": null,
       "flex": null,
       "flex_flow": null,
       "grid_area": null,
       "grid_auto_columns": null,
       "grid_auto_flow": null,
       "grid_auto_rows": null,
       "grid_column": null,
       "grid_gap": null,
       "grid_row": null,
       "grid_template_areas": null,
       "grid_template_columns": null,
       "grid_template_rows": null,
       "height": null,
       "justify_content": null,
       "justify_items": null,
       "left": null,
       "margin": null,
       "max_height": null,
       "max_width": null,
       "min_height": null,
       "min_width": null,
       "object_fit": null,
       "object_position": null,
       "order": null,
       "overflow": null,
       "padding": null,
       "right": null,
       "top": null,
       "visibility": null,
       "width": null
      }
     },
     "6732b7bed1ca403bb3aa0741283a9b46": {
      "model_module": "@jupyter-widgets/controls",
      "model_module_version": "2.0.0",
      "model_name": "HTMLStyleModel",
      "state": {
       "_model_module": "@jupyter-widgets/controls",
       "_model_module_version": "2.0.0",
       "_model_name": "HTMLStyleModel",
       "_view_count": null,
       "_view_module": "@jupyter-widgets/base",
       "_view_module_version": "2.0.0",
       "_view_name": "StyleView",
       "background": null,
       "description_width": "",
       "font_size": null,
       "text_color": null
      }
     },
     "681c704a42c2413ab81377bea9811663": {
      "model_module": "@jupyter-widgets/controls",
      "model_module_version": "2.0.0",
      "model_name": "FloatProgressModel",
      "state": {
       "_dom_classes": [],
       "_model_module": "@jupyter-widgets/controls",
       "_model_module_version": "2.0.0",
       "_model_name": "FloatProgressModel",
       "_view_count": null,
       "_view_module": "@jupyter-widgets/controls",
       "_view_module_version": "2.0.0",
       "_view_name": "ProgressView",
       "bar_style": "success",
       "description": "",
       "description_allow_html": false,
       "layout": "IPY_MODEL_62ff8730bd1446259846f635896c6432",
       "max": 844939.0,
       "min": 0.0,
       "orientation": "horizontal",
       "style": "IPY_MODEL_32e6e1920fac4f9a8b8ca4763182bcbd",
       "tabbable": null,
       "tooltip": null,
       "value": 844939.0
      }
     },
     "76507732cb46409fa4133589f6e8584d": {
      "model_module": "@jupyter-widgets/base",
      "model_module_version": "2.0.0",
      "model_name": "LayoutModel",
      "state": {
       "_model_module": "@jupyter-widgets/base",
       "_model_module_version": "2.0.0",
       "_model_name": "LayoutModel",
       "_view_count": null,
       "_view_module": "@jupyter-widgets/base",
       "_view_module_version": "2.0.0",
       "_view_name": "LayoutView",
       "align_content": null,
       "align_items": null,
       "align_self": null,
       "border_bottom": null,
       "border_left": null,
       "border_right": null,
       "border_top": null,
       "bottom": null,
       "display": null,
       "flex": null,
       "flex_flow": null,
       "grid_area": null,
       "grid_auto_columns": null,
       "grid_auto_flow": null,
       "grid_auto_rows": null,
       "grid_column": null,
       "grid_gap": null,
       "grid_row": null,
       "grid_template_areas": null,
       "grid_template_columns": null,
       "grid_template_rows": null,
       "height": null,
       "justify_content": null,
       "justify_items": null,
       "left": null,
       "margin": null,
       "max_height": null,
       "max_width": null,
       "min_height": null,
       "min_width": null,
       "object_fit": null,
       "object_position": null,
       "order": null,
       "overflow": null,
       "padding": null,
       "right": null,
       "top": null,
       "visibility": null,
       "width": null
      }
     },
     "777c4360ace14d81af46b42acc47f96f": {
      "model_module": "@jupyter-widgets/base",
      "model_module_version": "2.0.0",
      "model_name": "LayoutModel",
      "state": {
       "_model_module": "@jupyter-widgets/base",
       "_model_module_version": "2.0.0",
       "_model_name": "LayoutModel",
       "_view_count": null,
       "_view_module": "@jupyter-widgets/base",
       "_view_module_version": "2.0.0",
       "_view_name": "LayoutView",
       "align_content": null,
       "align_items": null,
       "align_self": null,
       "border_bottom": null,
       "border_left": null,
       "border_right": null,
       "border_top": null,
       "bottom": null,
       "display": null,
       "flex": null,
       "flex_flow": null,
       "grid_area": null,
       "grid_auto_columns": null,
       "grid_auto_flow": null,
       "grid_auto_rows": null,
       "grid_column": null,
       "grid_gap": null,
       "grid_row": null,
       "grid_template_areas": null,
       "grid_template_columns": null,
       "grid_template_rows": null,
       "height": null,
       "justify_content": null,
       "justify_items": null,
       "left": null,
       "margin": null,
       "max_height": null,
       "max_width": null,
       "min_height": null,
       "min_width": null,
       "object_fit": null,
       "object_position": null,
       "order": null,
       "overflow": null,
       "padding": null,
       "right": null,
       "top": null,
       "visibility": null,
       "width": null
      }
     },
     "859f2ec1e47248bbbd131fe704d75330": {
      "model_module": "@jupyter-widgets/base",
      "model_module_version": "2.0.0",
      "model_name": "LayoutModel",
      "state": {
       "_model_module": "@jupyter-widgets/base",
       "_model_module_version": "2.0.0",
       "_model_name": "LayoutModel",
       "_view_count": null,
       "_view_module": "@jupyter-widgets/base",
       "_view_module_version": "2.0.0",
       "_view_name": "LayoutView",
       "align_content": null,
       "align_items": null,
       "align_self": null,
       "border_bottom": null,
       "border_left": null,
       "border_right": null,
       "border_top": null,
       "bottom": null,
       "display": null,
       "flex": null,
       "flex_flow": null,
       "grid_area": null,
       "grid_auto_columns": null,
       "grid_auto_flow": null,
       "grid_auto_rows": null,
       "grid_column": null,
       "grid_gap": null,
       "grid_row": null,
       "grid_template_areas": null,
       "grid_template_columns": null,
       "grid_template_rows": null,
       "height": null,
       "justify_content": null,
       "justify_items": null,
       "left": null,
       "margin": null,
       "max_height": null,
       "max_width": null,
       "min_height": null,
       "min_width": null,
       "object_fit": null,
       "object_position": null,
       "order": null,
       "overflow": null,
       "padding": null,
       "right": null,
       "top": null,
       "visibility": null,
       "width": null
      }
     },
     "8e0f6c23f57f4fc4915f4fc927d79034": {
      "model_module": "@jupyter-widgets/controls",
      "model_module_version": "2.0.0",
      "model_name": "ProgressStyleModel",
      "state": {
       "_model_module": "@jupyter-widgets/controls",
       "_model_module_version": "2.0.0",
       "_model_name": "ProgressStyleModel",
       "_view_count": null,
       "_view_module": "@jupyter-widgets/base",
       "_view_module_version": "2.0.0",
       "_view_name": "StyleView",
       "bar_color": null,
       "description_width": ""
      }
     },
     "95fee809877d41aba0b47644e0466ec6": {
      "model_module": "@jupyter-widgets/controls",
      "model_module_version": "2.0.0",
      "model_name": "HBoxModel",
      "state": {
       "_dom_classes": [],
       "_model_module": "@jupyter-widgets/controls",
       "_model_module_version": "2.0.0",
       "_model_name": "HBoxModel",
       "_view_count": null,
       "_view_module": "@jupyter-widgets/controls",
       "_view_module_version": "2.0.0",
       "_view_name": "HBoxView",
       "box_style": "",
       "children": [
        "IPY_MODEL_4ae4ed7513494a379cd99c8d9a1d5039",
        "IPY_MODEL_a73b661208d94a72a5d6371c2c6a4675",
        "IPY_MODEL_f641b953c5ef40f980d7eaacf331ae65"
       ],
       "layout": "IPY_MODEL_b5f00e97b35a4b7b9a144f2500637778",
       "tabbable": null,
       "tooltip": null
      }
     },
     "99abe6de7e4b41d9b3579f61ff661ff2": {
      "model_module": "@jupyter-widgets/controls",
      "model_module_version": "2.0.0",
      "model_name": "HBoxModel",
      "state": {
       "_dom_classes": [],
       "_model_module": "@jupyter-widgets/controls",
       "_model_module_version": "2.0.0",
       "_model_name": "HBoxModel",
       "_view_count": null,
       "_view_module": "@jupyter-widgets/controls",
       "_view_module_version": "2.0.0",
       "_view_name": "HBoxView",
       "box_style": "",
       "children": [
        "IPY_MODEL_5d5501c8cfc84c4483da5bb31f79735c",
        "IPY_MODEL_681c704a42c2413ab81377bea9811663",
        "IPY_MODEL_d1c9400c39c643538d583521b3fa2688"
       ],
       "layout": "IPY_MODEL_ec1a1d38d71342c18875990846402b60",
       "tabbable": null,
       "tooltip": null
      }
     },
     "9ea35c0206f24483a2de215818b4fe16": {
      "model_module": "@jupyter-widgets/controls",
      "model_module_version": "2.0.0",
      "model_name": "HTMLStyleModel",
      "state": {
       "_model_module": "@jupyter-widgets/controls",
       "_model_module_version": "2.0.0",
       "_model_name": "HTMLStyleModel",
       "_view_count": null,
       "_view_module": "@jupyter-widgets/base",
       "_view_module_version": "2.0.0",
       "_view_name": "StyleView",
       "background": null,
       "description_width": "",
       "font_size": null,
       "text_color": null
      }
     },
     "a73b661208d94a72a5d6371c2c6a4675": {
      "model_module": "@jupyter-widgets/controls",
      "model_module_version": "2.0.0",
      "model_name": "FloatProgressModel",
      "state": {
       "_dom_classes": [],
       "_model_module": "@jupyter-widgets/controls",
       "_model_module_version": "2.0.0",
       "_model_name": "FloatProgressModel",
       "_view_count": null,
       "_view_module": "@jupyter-widgets/controls",
       "_view_module_version": "2.0.0",
       "_view_name": "ProgressView",
       "bar_style": "success",
       "description": "",
       "description_allow_html": false,
       "layout": "IPY_MODEL_2e6879abb0f8408a9ecc4f7d5fed52a3",
       "max": 279776.0,
       "min": 0.0,
       "orientation": "horizontal",
       "style": "IPY_MODEL_8e0f6c23f57f4fc4915f4fc927d79034",
       "tabbable": null,
       "tooltip": null,
       "value": 279776.0
      }
     },
     "aa9e2d8fa39a405b982e4fa09883df22": {
      "model_module": "@jupyter-widgets/controls",
      "model_module_version": "2.0.0",
      "model_name": "HTMLStyleModel",
      "state": {
       "_model_module": "@jupyter-widgets/controls",
       "_model_module_version": "2.0.0",
       "_model_name": "HTMLStyleModel",
       "_view_count": null,
       "_view_module": "@jupyter-widgets/base",
       "_view_module_version": "2.0.0",
       "_view_name": "StyleView",
       "background": null,
       "description_width": "",
       "font_size": null,
       "text_color": null
      }
     },
     "af5b922a1b894cb8b9585a7df57a623a": {
      "model_module": "@jupyter-widgets/controls",
      "model_module_version": "2.0.0",
      "model_name": "ProgressStyleModel",
      "state": {
       "_model_module": "@jupyter-widgets/controls",
       "_model_module_version": "2.0.0",
       "_model_name": "ProgressStyleModel",
       "_view_count": null,
       "_view_module": "@jupyter-widgets/base",
       "_view_module_version": "2.0.0",
       "_view_name": "StyleView",
       "bar_color": null,
       "description_width": ""
      }
     },
     "b24fbd0ea6cd499cab52f883a6347955": {
      "model_module": "@jupyter-widgets/base",
      "model_module_version": "2.0.0",
      "model_name": "LayoutModel",
      "state": {
       "_model_module": "@jupyter-widgets/base",
       "_model_module_version": "2.0.0",
       "_model_name": "LayoutModel",
       "_view_count": null,
       "_view_module": "@jupyter-widgets/base",
       "_view_module_version": "2.0.0",
       "_view_name": "LayoutView",
       "align_content": null,
       "align_items": null,
       "align_self": null,
       "border_bottom": null,
       "border_left": null,
       "border_right": null,
       "border_top": null,
       "bottom": null,
       "display": null,
       "flex": null,
       "flex_flow": null,
       "grid_area": null,
       "grid_auto_columns": null,
       "grid_auto_flow": null,
       "grid_auto_rows": null,
       "grid_column": null,
       "grid_gap": null,
       "grid_row": null,
       "grid_template_areas": null,
       "grid_template_columns": null,
       "grid_template_rows": null,
       "height": null,
       "justify_content": null,
       "justify_items": null,
       "left": null,
       "margin": null,
       "max_height": null,
       "max_width": null,
       "min_height": null,
       "min_width": null,
       "object_fit": null,
       "object_position": null,
       "order": null,
       "overflow": null,
       "padding": null,
       "right": null,
       "top": null,
       "visibility": null,
       "width": null
      }
     },
     "b5f00e97b35a4b7b9a144f2500637778": {
      "model_module": "@jupyter-widgets/base",
      "model_module_version": "2.0.0",
      "model_name": "LayoutModel",
      "state": {
       "_model_module": "@jupyter-widgets/base",
       "_model_module_version": "2.0.0",
       "_model_name": "LayoutModel",
       "_view_count": null,
       "_view_module": "@jupyter-widgets/base",
       "_view_module_version": "2.0.0",
       "_view_name": "LayoutView",
       "align_content": null,
       "align_items": null,
       "align_self": null,
       "border_bottom": null,
       "border_left": null,
       "border_right": null,
       "border_top": null,
       "bottom": null,
       "display": null,
       "flex": null,
       "flex_flow": null,
       "grid_area": null,
       "grid_auto_columns": null,
       "grid_auto_flow": null,
       "grid_auto_rows": null,
       "grid_column": null,
       "grid_gap": null,
       "grid_row": null,
       "grid_template_areas": null,
       "grid_template_columns": null,
       "grid_template_rows": null,
       "height": null,
       "justify_content": null,
       "justify_items": null,
       "left": null,
       "margin": null,
       "max_height": null,
       "max_width": null,
       "min_height": null,
       "min_width": null,
       "object_fit": null,
       "object_position": null,
       "order": null,
       "overflow": null,
       "padding": null,
       "right": null,
       "top": null,
       "visibility": null,
       "width": null
      }
     },
     "c2d3e2e471d847f9bf243c043b05d05f": {
      "model_module": "@jupyter-widgets/base",
      "model_module_version": "2.0.0",
      "model_name": "LayoutModel",
      "state": {
       "_model_module": "@jupyter-widgets/base",
       "_model_module_version": "2.0.0",
       "_model_name": "LayoutModel",
       "_view_count": null,
       "_view_module": "@jupyter-widgets/base",
       "_view_module_version": "2.0.0",
       "_view_name": "LayoutView",
       "align_content": null,
       "align_items": null,
       "align_self": null,
       "border_bottom": null,
       "border_left": null,
       "border_right": null,
       "border_top": null,
       "bottom": null,
       "display": null,
       "flex": null,
       "flex_flow": null,
       "grid_area": null,
       "grid_auto_columns": null,
       "grid_auto_flow": null,
       "grid_auto_rows": null,
       "grid_column": null,
       "grid_gap": null,
       "grid_row": null,
       "grid_template_areas": null,
       "grid_template_columns": null,
       "grid_template_rows": null,
       "height": null,
       "justify_content": null,
       "justify_items": null,
       "left": null,
       "margin": null,
       "max_height": null,
       "max_width": null,
       "min_height": null,
       "min_width": null,
       "object_fit": null,
       "object_position": null,
       "order": null,
       "overflow": null,
       "padding": null,
       "right": null,
       "top": null,
       "visibility": null,
       "width": null
      }
     },
     "c3374804c15b427990047a4ab7e9df7f": {
      "model_module": "@jupyter-widgets/controls",
      "model_module_version": "2.0.0",
      "model_name": "HBoxModel",
      "state": {
       "_dom_classes": [],
       "_model_module": "@jupyter-widgets/controls",
       "_model_module_version": "2.0.0",
       "_model_name": "HBoxModel",
       "_view_count": null,
       "_view_module": "@jupyter-widgets/controls",
       "_view_module_version": "2.0.0",
       "_view_name": "HBoxView",
       "box_style": "",
       "children": [
        "IPY_MODEL_13c0e7c0a2b34a62af545d13185d146c",
        "IPY_MODEL_3bb3453d0549482692e23ddf8a1df5f9",
        "IPY_MODEL_3ddca11aa7ad4839be74b2a1b7b68013"
       ],
       "layout": "IPY_MODEL_ec76141b2cd94e0e826191ef3e05f74c",
       "tabbable": null,
       "tooltip": null
      }
     },
     "c648abb27cd4407bbc56ff1727772bc6": {
      "model_module": "@jupyter-widgets/controls",
      "model_module_version": "2.0.0",
      "model_name": "HTMLStyleModel",
      "state": {
       "_model_module": "@jupyter-widgets/controls",
       "_model_module_version": "2.0.0",
       "_model_name": "HTMLStyleModel",
       "_view_count": null,
       "_view_module": "@jupyter-widgets/base",
       "_view_module_version": "2.0.0",
       "_view_name": "StyleView",
       "background": null,
       "description_width": "",
       "font_size": null,
       "text_color": null
      }
     },
     "c6d2ea3342914019bb74354c7cc6b0f0": {
      "model_module": "@jupyter-widgets/controls",
      "model_module_version": "2.0.0",
      "model_name": "HTMLStyleModel",
      "state": {
       "_model_module": "@jupyter-widgets/controls",
       "_model_module_version": "2.0.0",
       "_model_name": "HTMLStyleModel",
       "_view_count": null,
       "_view_module": "@jupyter-widgets/base",
       "_view_module_version": "2.0.0",
       "_view_name": "StyleView",
       "background": null,
       "description_width": "",
       "font_size": null,
       "text_color": null
      }
     },
     "d1c9400c39c643538d583521b3fa2688": {
      "model_module": "@jupyter-widgets/controls",
      "model_module_version": "2.0.0",
      "model_name": "HTMLModel",
      "state": {
       "_dom_classes": [],
       "_model_module": "@jupyter-widgets/controls",
       "_model_module_version": "2.0.0",
       "_model_name": "HTMLModel",
       "_view_count": null,
       "_view_module": "@jupyter-widgets/controls",
       "_view_module_version": "2.0.0",
       "_view_name": "HTMLView",
       "description": "",
       "description_allow_html": false,
       "layout": "IPY_MODEL_c2d3e2e471d847f9bf243c043b05d05f",
       "placeholder": "​",
       "style": "IPY_MODEL_c6d2ea3342914019bb74354c7cc6b0f0",
       "tabbable": null,
       "tooltip": null,
       "value": " 844939/844939 [01:12&lt;00:00, 11927.40 examples/s]"
      }
     },
     "e83172dd70b64d329f5584abe68efc4e": {
      "model_module": "@jupyter-widgets/base",
      "model_module_version": "2.0.0",
      "model_name": "LayoutModel",
      "state": {
       "_model_module": "@jupyter-widgets/base",
       "_model_module_version": "2.0.0",
       "_model_name": "LayoutModel",
       "_view_count": null,
       "_view_module": "@jupyter-widgets/base",
       "_view_module_version": "2.0.0",
       "_view_name": "LayoutView",
       "align_content": null,
       "align_items": null,
       "align_self": null,
       "border_bottom": null,
       "border_left": null,
       "border_right": null,
       "border_top": null,
       "bottom": null,
       "display": null,
       "flex": null,
       "flex_flow": null,
       "grid_area": null,
       "grid_auto_columns": null,
       "grid_auto_flow": null,
       "grid_auto_rows": null,
       "grid_column": null,
       "grid_gap": null,
       "grid_row": null,
       "grid_template_areas": null,
       "grid_template_columns": null,
       "grid_template_rows": null,
       "height": null,
       "justify_content": null,
       "justify_items": null,
       "left": null,
       "margin": null,
       "max_height": null,
       "max_width": null,
       "min_height": null,
       "min_width": null,
       "object_fit": null,
       "object_position": null,
       "order": null,
       "overflow": null,
       "padding": null,
       "right": null,
       "top": null,
       "visibility": null,
       "width": null
      }
     },
     "ec1a1d38d71342c18875990846402b60": {
      "model_module": "@jupyter-widgets/base",
      "model_module_version": "2.0.0",
      "model_name": "LayoutModel",
      "state": {
       "_model_module": "@jupyter-widgets/base",
       "_model_module_version": "2.0.0",
       "_model_name": "LayoutModel",
       "_view_count": null,
       "_view_module": "@jupyter-widgets/base",
       "_view_module_version": "2.0.0",
       "_view_name": "LayoutView",
       "align_content": null,
       "align_items": null,
       "align_self": null,
       "border_bottom": null,
       "border_left": null,
       "border_right": null,
       "border_top": null,
       "bottom": null,
       "display": null,
       "flex": null,
       "flex_flow": null,
       "grid_area": null,
       "grid_auto_columns": null,
       "grid_auto_flow": null,
       "grid_auto_rows": null,
       "grid_column": null,
       "grid_gap": null,
       "grid_row": null,
       "grid_template_areas": null,
       "grid_template_columns": null,
       "grid_template_rows": null,
       "height": null,
       "justify_content": null,
       "justify_items": null,
       "left": null,
       "margin": null,
       "max_height": null,
       "max_width": null,
       "min_height": null,
       "min_width": null,
       "object_fit": null,
       "object_position": null,
       "order": null,
       "overflow": null,
       "padding": null,
       "right": null,
       "top": null,
       "visibility": null,
       "width": null
      }
     },
     "ec76141b2cd94e0e826191ef3e05f74c": {
      "model_module": "@jupyter-widgets/base",
      "model_module_version": "2.0.0",
      "model_name": "LayoutModel",
      "state": {
       "_model_module": "@jupyter-widgets/base",
       "_model_module_version": "2.0.0",
       "_model_name": "LayoutModel",
       "_view_count": null,
       "_view_module": "@jupyter-widgets/base",
       "_view_module_version": "2.0.0",
       "_view_name": "LayoutView",
       "align_content": null,
       "align_items": null,
       "align_self": null,
       "border_bottom": null,
       "border_left": null,
       "border_right": null,
       "border_top": null,
       "bottom": null,
       "display": null,
       "flex": null,
       "flex_flow": null,
       "grid_area": null,
       "grid_auto_columns": null,
       "grid_auto_flow": null,
       "grid_auto_rows": null,
       "grid_column": null,
       "grid_gap": null,
       "grid_row": null,
       "grid_template_areas": null,
       "grid_template_columns": null,
       "grid_template_rows": null,
       "height": null,
       "justify_content": null,
       "justify_items": null,
       "left": null,
       "margin": null,
       "max_height": null,
       "max_width": null,
       "min_height": null,
       "min_width": null,
       "object_fit": null,
       "object_position": null,
       "order": null,
       "overflow": null,
       "padding": null,
       "right": null,
       "top": null,
       "visibility": null,
       "width": null
      }
     },
     "f641b953c5ef40f980d7eaacf331ae65": {
      "model_module": "@jupyter-widgets/controls",
      "model_module_version": "2.0.0",
      "model_name": "HTMLModel",
      "state": {
       "_dom_classes": [],
       "_model_module": "@jupyter-widgets/controls",
       "_model_module_version": "2.0.0",
       "_model_name": "HTMLModel",
       "_view_count": null,
       "_view_module": "@jupyter-widgets/controls",
       "_view_module_version": "2.0.0",
       "_view_name": "HTMLView",
       "description": "",
       "description_allow_html": false,
       "layout": "IPY_MODEL_859f2ec1e47248bbbd131fe704d75330",
       "placeholder": "​",
       "style": "IPY_MODEL_024d0e9e92fa4062953b4873a2dcf83b",
       "tabbable": null,
       "tooltip": null,
       "value": " 279776/279776 [00:15&lt;00:00, 18032.32 examples/s]"
      }
     }
    },
    "version_major": 2,
    "version_minor": 0
   }
  }
 },
 "nbformat": 4,
 "nbformat_minor": 5
}
